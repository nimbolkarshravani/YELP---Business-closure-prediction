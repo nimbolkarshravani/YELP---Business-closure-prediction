{
  "cells": [
    {
      "cell_type": "code",
      "execution_count": null,
      "metadata": {
        "id": "AoXG11mwsWTc"
      },
      "outputs": [],
      "source": [
        "import numpy as np\n",
        "import pandas as pd\n",
        "from gensim.models import Word2Vec\n",
        "from sklearn.cluster import KMeans"
      ]
    },
    {
      "cell_type": "code",
      "execution_count": null,
      "metadata": {
        "id": "nk6Mg7elsWTf"
      },
      "outputs": [],
      "source": [
        "word_vectors = Word2Vec.load(\"../preprocessing_and_embeddings/word2vec.model\").wv"
      ]
    },
    {
      "cell_type": "code",
      "execution_count": null,
      "metadata": {
        "id": "MybibetasWTg"
      },
      "outputs": [],
      "source": [
        "model = KMeans(n_clusters=2, max_iter=1000, random_state=True, n_init=50).fit(X=word_vectors.vectors.astype('double'))"
      ]
    },
    {
      "cell_type": "code",
      "execution_count": null,
      "metadata": {
        "id": "Cr-O9jgEsWTg",
        "outputId": "5cbf6fc3-f40d-466c-c936-8bc12c8826c9"
      },
      "outputs": [
        {
          "data": {
            "text/plain": [
              "[('chorizo_rioja', 0.7952917814254761),\n",
              " ('shaved_ricotta', 0.7886500954627991),\n",
              " ('de_mariscos', 0.776299238204956),\n",
              " ('sald', 0.7753915786743164),\n",
              " ('piperade', 0.7741570472717285),\n",
              " ('chestnut_fettucine', 0.7724645733833313),\n",
              " ('pickled_raisins', 0.7724539041519165),\n",
              " ('elegantly_presented', 0.7710554599761963),\n",
              " ('crispy_pancetta', 0.7686232328414917),\n",
              " ('mince', 0.7669898271560669)]"
            ]
          },
          "execution_count": 22,
          "metadata": {},
          "output_type": "execute_result"
        }
      ],
      "source": [
        "word_vectors.similar_by_vector(model.cluster_centers_[1], topn=10, restrict_vocab=None)"
      ]
    },
    {
      "cell_type": "code",
      "execution_count": null,
      "metadata": {
        "id": "GdvJnLh_sWTh"
      },
      "outputs": [],
      "source": [
        "positive_cluster_index = 1\n",
        "positive_cluster_center = model.cluster_centers_[positive_cluster_index]\n",
        "negative_cluster_center = model.cluster_centers_[1-positive_cluster_index]"
      ]
    },
    {
      "cell_type": "code",
      "execution_count": null,
      "metadata": {
        "id": "j6i3TUXisWTi"
      },
      "outputs": [],
      "source": [
        "words = pd.DataFrame(word_vectors.index_to_key)\n",
        "words.columns = ['words']\n",
        "words['vectors'] = words.words.apply(lambda x: word_vectors[f'{x}'])\n",
        "words['cluster'] = words.vectors.apply(lambda x: model.predict([np.array(x)]))\n",
        "words.cluster = words.cluster.apply(lambda x: x[0])"
      ]
    },
    {
      "cell_type": "code",
      "execution_count": null,
      "metadata": {
        "id": "uB3P-bsbsWTi"
      },
      "outputs": [],
      "source": [
        "words['cluster_value'] = [1 if i==positive_cluster_index else -1 for i in words.cluster]\n",
        "words['closeness_score'] = words.apply(lambda x: 1/(model.transform([x.vectors]).min()), axis=1)\n",
        "words['sentiment_coeff'] = words.closeness_score * words.cluster_value"
      ]
    },
    {
      "cell_type": "code",
      "execution_count": null,
      "metadata": {
        "id": "s4W6zFcksWTi",
        "outputId": "2bfd7b37-5aea-4f29-ca8a-5e2b8e85d784"
      },
      "outputs": [
        {
          "data": {
            "text/html": [
              "<div>\n",
              "<style scoped>\n",
              "    .dataframe tbody tr th:only-of-type {\n",
              "        vertical-align: middle;\n",
              "    }\n",
              "\n",
              "    .dataframe tbody tr th {\n",
              "        vertical-align: top;\n",
              "    }\n",
              "\n",
              "    .dataframe thead th {\n",
              "        text-align: right;\n",
              "    }\n",
              "</style>\n",
              "<table border=\"1\" class=\"dataframe\">\n",
              "  <thead>\n",
              "    <tr style=\"text-align: right;\">\n",
              "      <th></th>\n",
              "      <th>words</th>\n",
              "      <th>vectors</th>\n",
              "      <th>cluster</th>\n",
              "      <th>cluster_value</th>\n",
              "      <th>closeness_score</th>\n",
              "      <th>sentiment_coeff</th>\n",
              "    </tr>\n",
              "  </thead>\n",
              "  <tbody>\n",
              "    <tr>\n",
              "      <th>0</th>\n",
              "      <td>the</td>\n",
              "      <td>[-0.025811557, -0.06777937, 0.03592337, 0.1531...</td>\n",
              "      <td>1</td>\n",
              "      <td>1</td>\n",
              "      <td>0.956277</td>\n",
              "      <td>0.956277</td>\n",
              "    </tr>\n",
              "    <tr>\n",
              "      <th>1</th>\n",
              "      <td>and</td>\n",
              "      <td>[0.04758844, -0.02318652, 0.008652871, 0.07262...</td>\n",
              "      <td>1</td>\n",
              "      <td>1</td>\n",
              "      <td>0.964933</td>\n",
              "      <td>0.964933</td>\n",
              "    </tr>\n",
              "    <tr>\n",
              "      <th>2</th>\n",
              "      <td>i</td>\n",
              "      <td>[0.0046501057, -0.09439859, 0.023876388, 0.101...</td>\n",
              "      <td>1</td>\n",
              "      <td>1</td>\n",
              "      <td>0.917241</td>\n",
              "      <td>0.917241</td>\n",
              "    </tr>\n",
              "    <tr>\n",
              "      <th>3</th>\n",
              "      <td>a</td>\n",
              "      <td>[-0.03135359, -0.008680656, 0.020439783, 0.154...</td>\n",
              "      <td>1</td>\n",
              "      <td>1</td>\n",
              "      <td>0.929204</td>\n",
              "      <td>0.929204</td>\n",
              "    </tr>\n",
              "    <tr>\n",
              "      <th>4</th>\n",
              "      <td>to</td>\n",
              "      <td>[-0.0114356, -0.086332746, -0.00014871405, 0.1...</td>\n",
              "      <td>0</td>\n",
              "      <td>-1</td>\n",
              "      <td>0.893186</td>\n",
              "      <td>-0.893186</td>\n",
              "    </tr>\n",
              "    <tr>\n",
              "      <th>5</th>\n",
              "      <td>was</td>\n",
              "      <td>[-0.07617827, -0.09099883, 0.086886376, -0.015...</td>\n",
              "      <td>1</td>\n",
              "      <td>1</td>\n",
              "      <td>0.957693</td>\n",
              "      <td>0.957693</td>\n",
              "    </tr>\n",
              "    <tr>\n",
              "      <th>6</th>\n",
              "      <td>it</td>\n",
              "      <td>[0.04747942, -0.12630408, 0.04054854, 0.084705...</td>\n",
              "      <td>1</td>\n",
              "      <td>1</td>\n",
              "      <td>0.950745</td>\n",
              "      <td>0.950745</td>\n",
              "    </tr>\n",
              "    <tr>\n",
              "      <th>7</th>\n",
              "      <td>of</td>\n",
              "      <td>[-0.008903565, -0.006358539, 0.009355352, 0.11...</td>\n",
              "      <td>1</td>\n",
              "      <td>1</td>\n",
              "      <td>0.981020</td>\n",
              "      <td>0.981020</td>\n",
              "    </tr>\n",
              "    <tr>\n",
              "      <th>8</th>\n",
              "      <td>is</td>\n",
              "      <td>[0.040766094, 0.0009671062, -0.016327435, 0.02...</td>\n",
              "      <td>1</td>\n",
              "      <td>1</td>\n",
              "      <td>0.947611</td>\n",
              "      <td>0.947611</td>\n",
              "    </tr>\n",
              "    <tr>\n",
              "      <th>9</th>\n",
              "      <td>!</td>\n",
              "      <td>[0.01586833, -0.002405933, -0.017865812, -0.04...</td>\n",
              "      <td>1</td>\n",
              "      <td>1</td>\n",
              "      <td>0.976600</td>\n",
              "      <td>0.976600</td>\n",
              "    </tr>\n",
              "  </tbody>\n",
              "</table>\n",
              "</div>"
            ],
            "text/plain": [
              "  words                                            vectors  cluster  \\\n",
              "0   the  [-0.025811557, -0.06777937, 0.03592337, 0.1531...        1   \n",
              "1   and  [0.04758844, -0.02318652, 0.008652871, 0.07262...        1   \n",
              "2     i  [0.0046501057, -0.09439859, 0.023876388, 0.101...        1   \n",
              "3     a  [-0.03135359, -0.008680656, 0.020439783, 0.154...        1   \n",
              "4    to  [-0.0114356, -0.086332746, -0.00014871405, 0.1...        0   \n",
              "5   was  [-0.07617827, -0.09099883, 0.086886376, -0.015...        1   \n",
              "6    it  [0.04747942, -0.12630408, 0.04054854, 0.084705...        1   \n",
              "7    of  [-0.008903565, -0.006358539, 0.009355352, 0.11...        1   \n",
              "8    is  [0.040766094, 0.0009671062, -0.016327435, 0.02...        1   \n",
              "9     !  [0.01586833, -0.002405933, -0.017865812, -0.04...        1   \n",
              "\n",
              "   cluster_value  closeness_score  sentiment_coeff  \n",
              "0              1         0.956277         0.956277  \n",
              "1              1         0.964933         0.964933  \n",
              "2              1         0.917241         0.917241  \n",
              "3              1         0.929204         0.929204  \n",
              "4             -1         0.893186        -0.893186  \n",
              "5              1         0.957693         0.957693  \n",
              "6              1         0.950745         0.950745  \n",
              "7              1         0.981020         0.981020  \n",
              "8              1         0.947611         0.947611  \n",
              "9              1         0.976600         0.976600  "
            ]
          },
          "execution_count": 26,
          "metadata": {},
          "output_type": "execute_result"
        }
      ],
      "source": [
        "words.head(10)"
      ]
    },
    {
      "cell_type": "code",
      "execution_count": null,
      "metadata": {
        "id": "fp_FGnrYsWTj"
      },
      "outputs": [],
      "source": [
        "words[['words', 'sentiment_coeff']].to_csv('sentiment_dictionary.csv', index=False)"
      ]
    }
  ],
  "metadata": {
    "kernelspec": {
      "display_name": "Python 3 (ipykernel)",
      "language": "python",
      "name": "python3"
    },
    "language_info": {
      "codemirror_mode": {
        "name": "ipython",
        "version": 3
      },
      "file_extension": ".py",
      "mimetype": "text/x-python",
      "name": "python",
      "nbconvert_exporter": "python",
      "pygments_lexer": "ipython3",
      "version": "3.9.13"
    },
    "colab": {
      "provenance": []
    }
  },
  "nbformat": 4,
  "nbformat_minor": 0
}